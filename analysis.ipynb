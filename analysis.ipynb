{
 "cells": [
  {
   "cell_type": "code",
   "execution_count": 2,
   "metadata": {},
   "outputs": [],
   "source": [
    "import pandas as pd\n",
    "import pickle"
   ]
  },
  {
   "cell_type": "code",
   "execution_count": 3,
   "metadata": {},
   "outputs": [
    {
     "name": "stderr",
     "output_type": "stream",
     "text": [
      "/home/azureuser/Ambarish/env/lib/python3.8/site-packages/tqdm/auto.py:21: TqdmWarning: IProgress not found. Please update jupyter and ipywidgets. See https://ipywidgets.readthedocs.io/en/stable/user_install.html\n",
      "  from .autonotebook import tqdm as notebook_tqdm\n"
     ]
    }
   ],
   "source": [
    "from sentence_transformers import SentenceTransformer"
   ]
  },
  {
   "cell_type": "code",
   "execution_count": 4,
   "metadata": {},
   "outputs": [],
   "source": [
    "from qdrant_client import QdrantClient\n",
    "from qdrant_client.models import VectorParams, Distance\n",
    "from qdrant_client.models import PointStruct"
   ]
  },
  {
   "cell_type": "code",
   "execution_count": 5,
   "metadata": {},
   "outputs": [],
   "source": [
    "model = SentenceTransformer('all-MiniLM-L6-v2')"
   ]
  },
  {
   "cell_type": "code",
   "execution_count": 6,
   "metadata": {},
   "outputs": [],
   "source": [
    "filename_pickle = \"ENMAX-ENVIRONMENT.pkl\"\n",
    "collection_name='ENMAX'"
   ]
  },
  {
   "cell_type": "code",
   "execution_count": 7,
   "metadata": {},
   "outputs": [],
   "source": [
    "qdrant_client = QdrantClient(host='localhost', port=6333)"
   ]
  },
  {
   "cell_type": "code",
   "execution_count": 9,
   "metadata": {},
   "outputs": [
    {
     "data": {
      "text/plain": [
       "True"
      ]
     },
     "execution_count": 9,
     "metadata": {},
     "output_type": "execute_result"
    }
   ],
   "source": [
    "qdrant_client.recreate_collection(\n",
    "    collection_name=collection_name, \n",
    "    vectors_config=VectorParams(size=384, distance=Distance.COSINE),\n",
    ")"
   ]
  },
  {
   "cell_type": "code",
   "execution_count": 8,
   "metadata": {},
   "outputs": [],
   "source": [
    "def get_encodings():\n",
    "    if (filename_pickle != \"\"):\n",
    "        with open(filename_pickle, 'rb') as f: \n",
    "            df_embeddings = pickle.load(f)\n",
    "    embeddings_all = df_embeddings[\"embeddings\"].tolist()\n",
    "    Lines = df_embeddings[\"text\"].tolist()\n",
    "    return embeddings_all,Lines"
   ]
  },
  {
   "cell_type": "code",
   "execution_count": 9,
   "metadata": {},
   "outputs": [],
   "source": [
    "embeddings_all,Lines = get_encodings()"
   ]
  },
  {
   "cell_type": "code",
   "execution_count": 10,
   "metadata": {},
   "outputs": [],
   "source": [
    "total_len = len(Lines)"
   ]
  },
  {
   "cell_type": "code",
   "execution_count": 19,
   "metadata": {},
   "outputs": [
    {
     "data": {
      "text/plain": [
       "UpdateResult(operation_id=0, status=<UpdateStatus.COMPLETED: 'completed'>)"
      ]
     },
     "execution_count": 19,
     "metadata": {},
     "output_type": "execute_result"
    }
   ],
   "source": [
    "qdrant_client.upsert(\n",
    "    collection_name=\"ENMAX\",\n",
    "    points=[\n",
    "        PointStruct(\n",
    "            id=i,\n",
    "            vector=embeddings_all[i],\n",
    "            payload={\"text\":Lines[i]}\n",
    "        )\n",
    "        for i in range(total_len)\n",
    "    ]\n",
    ")"
   ]
  },
  {
   "cell_type": "code",
   "execution_count": 11,
   "metadata": {},
   "outputs": [],
   "source": [
    "user_input =\"What is Enmax doing with Nested Birds?\""
   ]
  },
  {
   "cell_type": "code",
   "execution_count": 12,
   "metadata": {},
   "outputs": [],
   "source": [
    "def get_model():    \n",
    "    model = SentenceTransformer('all-MiniLM-L6-v2')\n",
    "    return model"
   ]
  },
  {
   "cell_type": "code",
   "execution_count": 13,
   "metadata": {},
   "outputs": [],
   "source": [
    "q_new = user_input\n",
    "q_new_embeddings = get_model().encode(q_new)"
   ]
  },
  {
   "cell_type": "code",
   "execution_count": 14,
   "metadata": {},
   "outputs": [],
   "source": [
    "search_result = qdrant_client.search(\n",
    "            collection_name=collection_name,\n",
    "            query_vector=q_new_embeddings,\n",
    "            query_filter=None,  # We don't want any filters for now\n",
    "            top=5  # 5 the most closest results is enough\n",
    "        )"
   ]
  },
  {
   "cell_type": "code",
   "execution_count": 15,
   "metadata": {},
   "outputs": [
    {
     "data": {
      "text/plain": [
       "[ScoredPoint(id=25, version=0, score=0.6282439, payload={'text': 'program with the herd will shift from initial clearing to\\n basic maintenance, saving time, money, and reducing\\n environmental impact compared to traditional\\n herbicide treatments.\\n ¹ A significant spill is defined as more than 500 litres, in alignment with industry standards (including Electricity Canada).\\n Land and\\n biodiversity\\n STORY\\n ENMAX 2021\\n ENVIRONMENTAL, SOCIAL\\n & GOVERNANCE REPORT CEO LET TER ESG SCORECARD ABOUT ENMAX SOCIAL GOVERNANCE TCFD APPENDICES\\n 29\\n ENVIRONMENT\\n Protecting biodiversity\\n Birds often use power poles or substation equipment\\n for perching, roosting and nesting. Birds may also nest\\n in areas where project or maintenance work will be\\n carried out. Across our operations, ENMAX works to\\n protect birds while helping to ensure the reliability of\\n our services by identifying high-risk areas, conducting\\n nest sweeps prior to work, and delaying work to\\n accommodate nesting periods.\\n PREVENTING DISTURBANCE TO NESTING BIRDS\\n To avoid disturbing avian nesting and breeding habitat\\n we regularly perform nest sweeps prior to project\\n work. Nest sweeps involve a search of the immediate\\n area by trained biologists to look for breeding birds\\n and nests. After completing a sweep, if nesting birds\\n are discovered, we identify locations where we can\\n complete our work without disruption to the birds\\n and we relocate our crews to these areas. In 2021, we\\n completed several sweeps as part of our work on the\\n Calgary Ring Road project. Many different nesting sites\\n were identified and we were able to accommodate the\\n nesting period without any incidents.\\n Across our operations, we work to\\n protect birds while helping to ensure\\n the reliability of our services.\\n NESTING PLATFORMS\\n In Maine, around coastal areas, ospreys tend to build\\n nests at the top of utility poles, which presents a danger\\n to the birds and raises the risk of disruptions to electric\\n service. After a 2020 incident when an osprey built a nest'}, vector=None),\n",
       " ScoredPoint(id=26, version=0, score=0.40835506, payload={'text': 'on a utility pole in Lamoine, Versant Power crews wanted\\n to prevent a future safety risk to the birds as well as\\n the public. As a result, Versant employees designed\\n and built an alternate osprey nesting platform close by.\\n The platform was built with osprey preferences in mind\\n and required Versant’s environmental team as well as\\n the expertise of outside environmental groups, including\\n the Maine Department of Inland Fisheries and Wildlife.\\n Because ospreys like to be at the tallest point above\\n the water, Versant crews replaced an existing utility\\n pole with a taller one. Crews installed a square platform\\n with no coverings, as the birds prefer to look down and\\n hunt for fish below without any obstructions overhead.\\n The osprey camera (powered by EarthCam) is powered\\n entirely by solar energy and is situated on a newly built\\n osprey platform overlooking the Mud Creek.\\n As Calgary has several fish-bearing waterbodies,\\n osprey are common and ENMAX maintains and\\n monitors 17 nesting platforms to provide safe places\\n for osprey to nest.\\n ENMAX 2021\\n ENVIRONMENTAL, SOCIAL\\n & GOVERNANCE REPORT CEO LET TER ESG SCORECARD ABOUT ENMAX SOCIAL GOVERNANCE TCFD APPENDICES'}, vector=None),\n",
       " ScoredPoint(id=16, version=0, score=0.3399808, payload={'text': 'Click here to watch a video about\\n our Charge Up pilot program.\\n ENMAX 2021\\n ENVIRONMENTAL, SOCIAL\\n & GOVERNANCE REPORT CEO LET TER ESG SCORECARD ABOUT ENMAX SOCIAL GOVERNANCE TCFD APPENDICES\\n 24\\n ENVIRONMENT\\n Dedicated to meeting our customers’ changing\\n needs, ENMAX is working to solve a problem impacting\\n electricity grids across North America—enabling\\n customers on secondary networks to export excess\\n electricity back to the grid.\\n A secondary network is a complex power grid with\\n a web of multiple parallel sources of power to each\\n customer. These specialized networks are used to\\n supply electricity to high-density communities requiring\\n high reliability. Within Calgary, ENMAX Power has\\n four secondary networks (CF Chinook Centre, North\\n Hill Centre, Westbrook Mall and the downtown core).\\n Customers connected to a secondary network rarely\\n experience interruptions in power, but the existing\\n design of these systems does not allow customers\\n who own electricity generation to export excess power\\n back to the grid. Although this is done for safety and\\n reliability reasons, it creates a technical barrier to\\n adopting distributed generation in these areas.\\n ENMAX Power is the first utility in Canada to develop\\n and demonstrate a solution to this complex technical\\n challenge through a multi-year project funded in part\\n by Natural Resources Canada and Alberta Innovates.\\n In collaboration with Cadillac Fairview (CF), the\\n project will test the connection of a solar installation\\n at CF Chinook Centre, the largest shopping complex\\n in Calgary, onto ENMAX Power’s specialized\\n secondary network to enable two-way power flow\\n of renewable forms of energy.\\n In April 2021, the project took an important step forward\\n when we began construction of the 800 kW DC onsite\\n solar installation on the CF Chinook Centre rooftop.\\n Construction of the systems that allow for electricity\\n export was completed in the first quarter of 2022,'}, vector=None),\n",
       " ScoredPoint(id=14, version=0, score=0.3024524, payload={'text': '³ CAIDI represents the average hours of service interruption for customers who experience a service interruption. The Institute of Electrical Electronics Engineers defines a ‘sustained’ outage as one that is five minutes or longer. This is a known distinction from Canadian utilities.\\n ENMAX 2021\\n ENVIRONMENTAL, SOCIAL\\n & GOVERNANCE REPORT CEO LET TER ESG SCORECARD ABOUT ENMAX SOCIAL GOVERNANCE TCFD APPENDICES\\n 23\\n ENVIRONMENT\\n PROGRESS IN 2021\\n Adapting to the pace of change in our industry while\\n maintaining a reliable and resilient grid requires\\n innovative thinking and concerted investment. Last\\n year, we set a target to invest $60 million by 2030 to\\n enable a more resilient grid while maintaining our\\n reliability levels. We remain dedicated to this goal and\\n have allocated $4.5 million in the first year.\\n Acting today to enable the grid\\n of tomorrow\\n We invest in innovation to make the grid more flexible,\\n support lower carbon power generation and adapt to\\n changing customer needs.\\n TESTING SMART METER TECHNOLOGY\\n ENMAX Power is running a pilot project to test smart\\n meters (known as Advanced Metering Infrastructure,\\n or AMI) in a few Calgary communities to improve\\n our metering capability and provide customers with\\n actionable insights on their energy consumption.\\n Read more on page 58.\\n PILOTING RESIDENTIAL BATTERY STORAGE\\n ENMAX Power is working with a small number of\\n customers in targeted areas of Calgary where there\\n is potential for congestion on the grid. We are looking\\n at ways to work with customers that have solar\\n photovoltaic (PV) installations, possibly combined with\\n electric vehicle charging, to install residential batteries\\n so they can store that power and then either use it in\\n their home or export it back to the grid.\\n SUPPORTING SOLAR MICRO-GENERATION\\n In 2022, we are relaunching our residential and small\\n commercial solar program to support customers’\\n demand for renewable power. Read more in the'}, vector=None),\n",
       " ScoredPoint(id=7, version=0, score=0.28837395, payload={'text': 'make informed decisions and better manage their\\n energy use. All residential and small business ENMAX\\n Energy customers have convenient access to the\\n My Energy IQ™ tools, reports and insights as part of\\n their ENMAX Energy online account. My Energy IQ™\\n enables customers to see how their home compares\\n to similar homes nearby, build a customized savings\\n plan, receive tips tailored to their home, see bill\\n comparisons and historical use charts, learn what\\n consumes the most energy in their home and how\\n weather impacts consumption.\\n ELECTRICITY OR NATURAL GAS GREEN ADD-ON\\n ENMAX Energy offers “green add-on” selections for\\n customers to pay an additional variable fee (the amount\\n is chosen by the customer). For electricity consumption,\\n this fee goes towards the purchase of certified\\n Renewable Energy Certificates that support renewable\\n energy generation, and for natural gas consumption this\\n fee goes towards the purchase of carbon offsets.\\n LOWER CARBON EMISSIONS HEATING\\n Versant Power encourages customers to switch from\\n using fossil fuels for home heating to using electric heat\\n pumps. Since Maine’s grid sources about 79 per cent\\n of its electricity from renewable sources such as wind,\\n solar, hydroelectric and biomass, switching to heat\\n pumps results in lower emissions.\\n In our interactions with customers,\\n we will continue to help them better\\n understand and manage their energy\\n usage and support renewable energy\\n solutions that meet their needs,\\n aspirations and expectations.\\n SOLAR INSTALLATIONS\\n As renewable generation continues to expand in\\n Alberta, solar remains the largest source of total\\n installed micro-generation capacity [under five\\n megawatts (MW) in size] at 112 MW as at the end of\\n 2021¹ and ENMAX Energy continues to maintain our\\n position as one of Alberta’s leading micro-generation\\n solar installers and retailers with more than 37 MW\\n installed to date. To continue to offer valuable and\\n requested services for our customers, and in response'}, vector=None),\n",
       " ScoredPoint(id=8, version=0, score=0.2776222, payload={'text': 'to market drivers, ENMAX Energy will be relaunching\\n our residential and small commercial solar program in\\n 2022. The rooftop solar program will offer competitive\\n pricing and end-to-end customer service through\\n ENMAX Energy. To meet the increasing demand from\\n our larger customers to help meet their ESG goals,\\n we are also exploring renewable electricity sale\\n agreements from utility-scale solar projects.\\n On a larger scale, customers in municipalities\\n across Alberta have partnered with ENMAX for\\n their solar needs, including 18 MW of installed solar\\n at 58 locations such as Calgary’s Shepard Solar Park,\\n Bearspaw Water Treatment Plant and Southland\\n Leisure Centre, to name just a few. In 2021, ENMAX\\n completed and energized the City of Leduc Protective\\n Services’ 88.8 kilowatt (kW) rooftop array and the\\n Town of Calmar Arena’s 185 kW rooftop array. Toward\\n the end of 2021, ENMAX initiated the Community\\n Solar Fund, providing selected Calgary community\\n associations with rooftop solar installations at\\n their facilities.\\n There are currently 11 projects in progress (totalling\\n approximately 950 kW), with an additional 15 community\\n associations scheduled in 2022 and an additional\\n expected ~2,200 kW of solar to be installed\\n across Calgary.\\n INTEGRATING DISTRIBUTED GENERATION INTO THE GRID\\n Across the state of Maine, Versant Power is currently\\n supporting more than 200 distributed generation\\n projects through their development stages—from\\n application, engineering studies, design and\\n construction to establishing detailed billing. This\\n involves integrating these renewable projects safely\\n and efficiently within Maine’s existing grid and is an\\n important part of advancing ENMAX and Versant\\n Power’s shared vision of a cleaner energy future.\\n ¹ https://www.aeso.ca/market/market-and-system-reporting/micro-and-small-distributed-generation-reporting/\\n ENMAX 2021\\n ENVIRONMENTAL, SOCIAL'}, vector=None),\n",
       " ScoredPoint(id=10, version=0, score=0.26253816, payload={'text': 'software, all the different parts of the system (fuses,\\n voltage step-down transformers, switches, overhead\\n and underground conductors) are modeled as sections.\\n Nodes are used to connect sections together and to\\n represent electrical information such as voltage and\\n current. Incorporating a programming language, Python,\\n enabled us to connect the various data sources and\\n display the information in Microsoft Power BI, a tool\\n already in ENMAX’s IT environment and accessible to all\\n business units. The resulting platform—called the Digital\\n Twin—is now used by many groups across ENMAX\\n Power to view data and gain insights more efficiently.\\n 2021 HIGHLIGHTS\\n → Invested $4.5 million in 2021 to enable a more resilient grid.\\n → Advanced our EV smart charging pilot to understand how Calgarians\\n use EVs and the potential impact on our electricity system.\\n Grid reliability\\n and resiliency\\n ENMAX 2021\\n ENVIRONMENTAL, SOCIAL\\n & GOVERNANCE REPORT CEO LET TER ESG SCORECARD ABOUT ENMAX SOCIAL GOVERNANCE TCFD APPENDICES\\n 21\\n ENVIRONMENT\\n SPOTLIGHT\\n Delivering power reliably\\n Strong reliability is linked to building sufficient\\n capacity across the system, but also to our ability to\\n prevent, withstand and recover rapidly from system\\n disruptions. We are strengthening the reliability of\\n our system through:\\n VISUAL INSPECTIONS\\n We regularly conduct ground line visual inspections to\\n provide a bottom-up look at our assets in Alberta and\\n Maine. Typically, one to two inspectors complete these\\n vehicle or foot patrol assessments from the road with\\n binoculars and often use infrared or corona scanning\\n to look for any signs of degradation. These inspections\\n also include wood pole condition assessments in which\\n we make a small drill hole to determine pole strength\\n and whether there is any rot.\\n DRONES\\n In Maine, drones are increasingly being used to provide\\n top-down inspections of transmission lines in right of\\n ways. Versant Power has 1,270 miles of transmission'}, vector=None),\n",
       " ScoredPoint(id=0, version=0, score=0.22545165, payload={'text': 'WHY IT MATTERS TO ENMAX\\n As a future-oriented essential electricity service\\n provider, we are committed to advancing a cleaner\\n energy future for the benefit of our customers, the\\n communities we operate in and our Shareholder,\\n The City of Calgary. For many years, the reduction\\n of greenhouse gas (GHG) emissions has been a key\\n component of our environmental protection and\\n stewardship practices.\\n OUR APPROACH\\n ENMAX has committed to achieving net-zero scope 1\\n and scope 2 GHG emissions by 2050. As a milestone\\n towards achieving our net-zero vision, we plan to reduce\\n or offset 70 per cent of our scope 1 and scope 2 GHG\\n emissions by 2030 from a 2015 baseline. To reach these\\n targets, we are identifying efficiencies at our natural gas\\n power generation facilities, offsetting and managing\\n emissions from our corporate and operational buildings,\\n and advancing the electrification of our mobile fleet.\\n Evolving our generation portfolio\\n We have already achieved significant emissions\\n reductions over the past decade due to the transition of\\n our power generation portfolio. When compared to our\\n 2015 baseline, we have reduced the GHG emissions by\\n 66 per cent. Today, we hold no coal‐fired generation in\\n our portfolio, and our power generation facilities are\\n a combination of modern natural gas-fuelled power\\n generation facilities and wind facilities.\\n GHG emissions across our business\\n Today, the vast majority of our GHG emissions\\n come from our natural gas power generation facilities.\\n Our primary source of GHG emissions is natural gas\\n combustion at these plants, followed by a smaller\\n proportion originating from natural gas and electricity\\n consumption at our corporate and operational buildings,\\n together with fuel combustion within our mobile fleet\\n (see table at right).\\n 2021 HIGHLIGHTS\\n → Completed a turbine upgrade and maintenance event at Shepard\\n Energy Centre that added 11 new megawatts (MW) of generation.'}, vector=None),\n",
       " ScoredPoint(id=19, version=0, score=0.21961808, payload={'text': 'significantly impacted, we dedicated time and focus\\n to prepare for these types of events. During the year,\\n ENMAX Power held three weather-related tabletop\\n exercises, two related to flood and one simulating\\n a large snowstorm. Tabletop emergency exercises\\n are sessions in which team members discuss their\\n roles during an emergency and their responses\\n to a particular situation, with a facilitator guiding\\n participants through the scenario. Our exercises\\n involved representatives from field services, senior\\n leadership, communications and system operations.\\n Some of the learnings from these exercises included\\n improvements to our ICS organizational structure to\\n enable more effective two-way communication and\\n providing better support to our system operators\\n and trouble dispatchers to assign jobs to crews for\\n secondary outages that can occur during storms.\\n Emergency\\n preparedness and\\n crisis management\\n ENMAX 2021\\n ENVIRONMENTAL, SOCIAL\\n & GOVERNANCE REPORT CEO LET TER ESG SCORECARD ABOUT ENMAX SOCIAL GOVERNANCE TCFD APPENDICES\\n 26\\n ENVIRONMENT\\n WHY IT MATTERS TO ENMAX\\n We recognize water is a precious resource that must\\n be used responsibly. We carefully manage our water\\n withdrawals and monitor our wastewater disposal.\\n OUR APPROACH\\n The majority of our water use is for essential power\\n generation processes—intake water is used for cooling\\n purposes in cooling towers and the remainder is\\n purified onsite to create steam in our combinedcycle\\n power plants. Combined-cycle facilities extract\\n waste heat from the gas turbine exhaust and use it to\\n create high pressure steam which produces additional\\n electricity when allowed to depressurize. Our water\\n reduction initiatives have been focused on reducing\\n facility water intensity by:\\n Reducing potable water use\\n We strive to minimize potable water use by using as\\n much reclaimed water in our operations as practically\\n possible. Reclaimed water is wastewater that has been'}, vector=None),\n",
       " ScoredPoint(id=23, version=0, score=0.21194021, payload={'text': 'EMISSIONS (TONNES) 2017 2017 2019 2020 2021\\n SOx 13 16 16 17 13\\n Particulate matter (PM₁₀) 25 14 15 15 12\\n Note: Air emissions data includes only our power generation assets over which we\\n have operational control.\\n OUR PERFORMANCE\\n NOx emissions from natural gas-fuelled power generation\\n 2017 2018 2019 2020 2021\\n Aggregated approved NOx emissions\\n NOx Intensity\\n 0\\n 8,000\\n 1,203\\n 1,657 1,612\\n 1,926 2,102\\n 0.26\\n 0.23\\n 0.25\\n 0.27\\n 0.24\\n 0.0\\n 0.3\\n ENMAX 2021\\n ENVIRONMENTAL, SOCIAL\\n & GOVERNANCE REPORT CEO LET TER ESG SCORECARD ABOUT ENMAX SOCIAL GOVERNANCE TCFD APPENDICES\\n 28\\n ENVIRONMENT\\n WHY IT MATTERS TO ENMAX\\n Environmental protection and stewardship are integral\\n components of our strategy embedded across all\\n aspects of our business. We endeavour to provide\\n environmentally responsible energy solutions to the\\n communities we serve.\\n OUR APPROACH\\n At ENMAX, we conduct our business with respect\\n for living species and the land around our operations.\\n We have an established environmental management\\n system, clear data collection and reporting processes,\\n and strong internal procedures to manage our\\n environmental risks. Our environmental management\\n system is modeled after ISO 14001:2015, an international\\n standard for environmental management.\\n Land stewardship\\n ENMAX Power operates over 38,000 distribution pad\\n mounted transformers, 113 high voltage substation\\n power transformers and 43 substations. While we\\n continually work to prevent spills in our daily operations,\\n we do experience some releases. In 2021, we had\\n three significant¹ transformer spills. Two distribution\\n transformer spills, one caused by third-party damage\\n and one as a result of a faulty drain valve. The third\\n spill involved a substation transformer release due to\\n a radiator fin failure. Some of the ways we are working\\n to reduce spills and improve our land stewardship\\n practices include:\\n PROACTIVE SPILL PREVENTION AND RESPONSE\\n We have established routine inspection programs'}, vector=None)]"
      ]
     },
     "execution_count": 15,
     "metadata": {},
     "output_type": "execute_result"
    }
   ],
   "source": [
    "search_result"
   ]
  },
  {
   "cell_type": "code",
   "execution_count": 17,
   "metadata": {},
   "outputs": [],
   "source": [
    "payloads = [hit.payload for hit in search_result]"
   ]
  },
  {
   "cell_type": "code",
   "execution_count": 18,
   "metadata": {},
   "outputs": [
    {
     "data": {
      "text/plain": [
       "[{'text': 'program with the herd will shift from initial clearing to\\n basic maintenance, saving time, money, and reducing\\n environmental impact compared to traditional\\n herbicide treatments.\\n ¹ A significant spill is defined as more than 500 litres, in alignment with industry standards (including Electricity Canada).\\n Land and\\n biodiversity\\n STORY\\n ENMAX 2021\\n ENVIRONMENTAL, SOCIAL\\n & GOVERNANCE REPORT CEO LET TER ESG SCORECARD ABOUT ENMAX SOCIAL GOVERNANCE TCFD APPENDICES\\n 29\\n ENVIRONMENT\\n Protecting biodiversity\\n Birds often use power poles or substation equipment\\n for perching, roosting and nesting. Birds may also nest\\n in areas where project or maintenance work will be\\n carried out. Across our operations, ENMAX works to\\n protect birds while helping to ensure the reliability of\\n our services by identifying high-risk areas, conducting\\n nest sweeps prior to work, and delaying work to\\n accommodate nesting periods.\\n PREVENTING DISTURBANCE TO NESTING BIRDS\\n To avoid disturbing avian nesting and breeding habitat\\n we regularly perform nest sweeps prior to project\\n work. Nest sweeps involve a search of the immediate\\n area by trained biologists to look for breeding birds\\n and nests. After completing a sweep, if nesting birds\\n are discovered, we identify locations where we can\\n complete our work without disruption to the birds\\n and we relocate our crews to these areas. In 2021, we\\n completed several sweeps as part of our work on the\\n Calgary Ring Road project. Many different nesting sites\\n were identified and we were able to accommodate the\\n nesting period without any incidents.\\n Across our operations, we work to\\n protect birds while helping to ensure\\n the reliability of our services.\\n NESTING PLATFORMS\\n In Maine, around coastal areas, ospreys tend to build\\n nests at the top of utility poles, which presents a danger\\n to the birds and raises the risk of disruptions to electric\\n service. After a 2020 incident when an osprey built a nest'},\n",
       " {'text': 'on a utility pole in Lamoine, Versant Power crews wanted\\n to prevent a future safety risk to the birds as well as\\n the public. As a result, Versant employees designed\\n and built an alternate osprey nesting platform close by.\\n The platform was built with osprey preferences in mind\\n and required Versant’s environmental team as well as\\n the expertise of outside environmental groups, including\\n the Maine Department of Inland Fisheries and Wildlife.\\n Because ospreys like to be at the tallest point above\\n the water, Versant crews replaced an existing utility\\n pole with a taller one. Crews installed a square platform\\n with no coverings, as the birds prefer to look down and\\n hunt for fish below without any obstructions overhead.\\n The osprey camera (powered by EarthCam) is powered\\n entirely by solar energy and is situated on a newly built\\n osprey platform overlooking the Mud Creek.\\n As Calgary has several fish-bearing waterbodies,\\n osprey are common and ENMAX maintains and\\n monitors 17 nesting platforms to provide safe places\\n for osprey to nest.\\n ENMAX 2021\\n ENVIRONMENTAL, SOCIAL\\n & GOVERNANCE REPORT CEO LET TER ESG SCORECARD ABOUT ENMAX SOCIAL GOVERNANCE TCFD APPENDICES'},\n",
       " {'text': 'Click here to watch a video about\\n our Charge Up pilot program.\\n ENMAX 2021\\n ENVIRONMENTAL, SOCIAL\\n & GOVERNANCE REPORT CEO LET TER ESG SCORECARD ABOUT ENMAX SOCIAL GOVERNANCE TCFD APPENDICES\\n 24\\n ENVIRONMENT\\n Dedicated to meeting our customers’ changing\\n needs, ENMAX is working to solve a problem impacting\\n electricity grids across North America—enabling\\n customers on secondary networks to export excess\\n electricity back to the grid.\\n A secondary network is a complex power grid with\\n a web of multiple parallel sources of power to each\\n customer. These specialized networks are used to\\n supply electricity to high-density communities requiring\\n high reliability. Within Calgary, ENMAX Power has\\n four secondary networks (CF Chinook Centre, North\\n Hill Centre, Westbrook Mall and the downtown core).\\n Customers connected to a secondary network rarely\\n experience interruptions in power, but the existing\\n design of these systems does not allow customers\\n who own electricity generation to export excess power\\n back to the grid. Although this is done for safety and\\n reliability reasons, it creates a technical barrier to\\n adopting distributed generation in these areas.\\n ENMAX Power is the first utility in Canada to develop\\n and demonstrate a solution to this complex technical\\n challenge through a multi-year project funded in part\\n by Natural Resources Canada and Alberta Innovates.\\n In collaboration with Cadillac Fairview (CF), the\\n project will test the connection of a solar installation\\n at CF Chinook Centre, the largest shopping complex\\n in Calgary, onto ENMAX Power’s specialized\\n secondary network to enable two-way power flow\\n of renewable forms of energy.\\n In April 2021, the project took an important step forward\\n when we began construction of the 800 kW DC onsite\\n solar installation on the CF Chinook Centre rooftop.\\n Construction of the systems that allow for electricity\\n export was completed in the first quarter of 2022,'},\n",
       " {'text': '³ CAIDI represents the average hours of service interruption for customers who experience a service interruption. The Institute of Electrical Electronics Engineers defines a ‘sustained’ outage as one that is five minutes or longer. This is a known distinction from Canadian utilities.\\n ENMAX 2021\\n ENVIRONMENTAL, SOCIAL\\n & GOVERNANCE REPORT CEO LET TER ESG SCORECARD ABOUT ENMAX SOCIAL GOVERNANCE TCFD APPENDICES\\n 23\\n ENVIRONMENT\\n PROGRESS IN 2021\\n Adapting to the pace of change in our industry while\\n maintaining a reliable and resilient grid requires\\n innovative thinking and concerted investment. Last\\n year, we set a target to invest $60 million by 2030 to\\n enable a more resilient grid while maintaining our\\n reliability levels. We remain dedicated to this goal and\\n have allocated $4.5 million in the first year.\\n Acting today to enable the grid\\n of tomorrow\\n We invest in innovation to make the grid more flexible,\\n support lower carbon power generation and adapt to\\n changing customer needs.\\n TESTING SMART METER TECHNOLOGY\\n ENMAX Power is running a pilot project to test smart\\n meters (known as Advanced Metering Infrastructure,\\n or AMI) in a few Calgary communities to improve\\n our metering capability and provide customers with\\n actionable insights on their energy consumption.\\n Read more on page 58.\\n PILOTING RESIDENTIAL BATTERY STORAGE\\n ENMAX Power is working with a small number of\\n customers in targeted areas of Calgary where there\\n is potential for congestion on the grid. We are looking\\n at ways to work with customers that have solar\\n photovoltaic (PV) installations, possibly combined with\\n electric vehicle charging, to install residential batteries\\n so they can store that power and then either use it in\\n their home or export it back to the grid.\\n SUPPORTING SOLAR MICRO-GENERATION\\n In 2022, we are relaunching our residential and small\\n commercial solar program to support customers’\\n demand for renewable power. Read more in the'},\n",
       " {'text': 'make informed decisions and better manage their\\n energy use. All residential and small business ENMAX\\n Energy customers have convenient access to the\\n My Energy IQ™ tools, reports and insights as part of\\n their ENMAX Energy online account. My Energy IQ™\\n enables customers to see how their home compares\\n to similar homes nearby, build a customized savings\\n plan, receive tips tailored to their home, see bill\\n comparisons and historical use charts, learn what\\n consumes the most energy in their home and how\\n weather impacts consumption.\\n ELECTRICITY OR NATURAL GAS GREEN ADD-ON\\n ENMAX Energy offers “green add-on” selections for\\n customers to pay an additional variable fee (the amount\\n is chosen by the customer). For electricity consumption,\\n this fee goes towards the purchase of certified\\n Renewable Energy Certificates that support renewable\\n energy generation, and for natural gas consumption this\\n fee goes towards the purchase of carbon offsets.\\n LOWER CARBON EMISSIONS HEATING\\n Versant Power encourages customers to switch from\\n using fossil fuels for home heating to using electric heat\\n pumps. Since Maine’s grid sources about 79 per cent\\n of its electricity from renewable sources such as wind,\\n solar, hydroelectric and biomass, switching to heat\\n pumps results in lower emissions.\\n In our interactions with customers,\\n we will continue to help them better\\n understand and manage their energy\\n usage and support renewable energy\\n solutions that meet their needs,\\n aspirations and expectations.\\n SOLAR INSTALLATIONS\\n As renewable generation continues to expand in\\n Alberta, solar remains the largest source of total\\n installed micro-generation capacity [under five\\n megawatts (MW) in size] at 112 MW as at the end of\\n 2021¹ and ENMAX Energy continues to maintain our\\n position as one of Alberta’s leading micro-generation\\n solar installers and retailers with more than 37 MW\\n installed to date. To continue to offer valuable and\\n requested services for our customers, and in response'},\n",
       " {'text': 'to market drivers, ENMAX Energy will be relaunching\\n our residential and small commercial solar program in\\n 2022. The rooftop solar program will offer competitive\\n pricing and end-to-end customer service through\\n ENMAX Energy. To meet the increasing demand from\\n our larger customers to help meet their ESG goals,\\n we are also exploring renewable electricity sale\\n agreements from utility-scale solar projects.\\n On a larger scale, customers in municipalities\\n across Alberta have partnered with ENMAX for\\n their solar needs, including 18 MW of installed solar\\n at 58 locations such as Calgary’s Shepard Solar Park,\\n Bearspaw Water Treatment Plant and Southland\\n Leisure Centre, to name just a few. In 2021, ENMAX\\n completed and energized the City of Leduc Protective\\n Services’ 88.8 kilowatt (kW) rooftop array and the\\n Town of Calmar Arena’s 185 kW rooftop array. Toward\\n the end of 2021, ENMAX initiated the Community\\n Solar Fund, providing selected Calgary community\\n associations with rooftop solar installations at\\n their facilities.\\n There are currently 11 projects in progress (totalling\\n approximately 950 kW), with an additional 15 community\\n associations scheduled in 2022 and an additional\\n expected ~2,200 kW of solar to be installed\\n across Calgary.\\n INTEGRATING DISTRIBUTED GENERATION INTO THE GRID\\n Across the state of Maine, Versant Power is currently\\n supporting more than 200 distributed generation\\n projects through their development stages—from\\n application, engineering studies, design and\\n construction to establishing detailed billing. This\\n involves integrating these renewable projects safely\\n and efficiently within Maine’s existing grid and is an\\n important part of advancing ENMAX and Versant\\n Power’s shared vision of a cleaner energy future.\\n ¹ https://www.aeso.ca/market/market-and-system-reporting/micro-and-small-distributed-generation-reporting/\\n ENMAX 2021\\n ENVIRONMENTAL, SOCIAL'},\n",
       " {'text': 'software, all the different parts of the system (fuses,\\n voltage step-down transformers, switches, overhead\\n and underground conductors) are modeled as sections.\\n Nodes are used to connect sections together and to\\n represent electrical information such as voltage and\\n current. Incorporating a programming language, Python,\\n enabled us to connect the various data sources and\\n display the information in Microsoft Power BI, a tool\\n already in ENMAX’s IT environment and accessible to all\\n business units. The resulting platform—called the Digital\\n Twin—is now used by many groups across ENMAX\\n Power to view data and gain insights more efficiently.\\n 2021 HIGHLIGHTS\\n → Invested $4.5 million in 2021 to enable a more resilient grid.\\n → Advanced our EV smart charging pilot to understand how Calgarians\\n use EVs and the potential impact on our electricity system.\\n Grid reliability\\n and resiliency\\n ENMAX 2021\\n ENVIRONMENTAL, SOCIAL\\n & GOVERNANCE REPORT CEO LET TER ESG SCORECARD ABOUT ENMAX SOCIAL GOVERNANCE TCFD APPENDICES\\n 21\\n ENVIRONMENT\\n SPOTLIGHT\\n Delivering power reliably\\n Strong reliability is linked to building sufficient\\n capacity across the system, but also to our ability to\\n prevent, withstand and recover rapidly from system\\n disruptions. We are strengthening the reliability of\\n our system through:\\n VISUAL INSPECTIONS\\n We regularly conduct ground line visual inspections to\\n provide a bottom-up look at our assets in Alberta and\\n Maine. Typically, one to two inspectors complete these\\n vehicle or foot patrol assessments from the road with\\n binoculars and often use infrared or corona scanning\\n to look for any signs of degradation. These inspections\\n also include wood pole condition assessments in which\\n we make a small drill hole to determine pole strength\\n and whether there is any rot.\\n DRONES\\n In Maine, drones are increasingly being used to provide\\n top-down inspections of transmission lines in right of\\n ways. Versant Power has 1,270 miles of transmission'},\n",
       " {'text': 'WHY IT MATTERS TO ENMAX\\n As a future-oriented essential electricity service\\n provider, we are committed to advancing a cleaner\\n energy future for the benefit of our customers, the\\n communities we operate in and our Shareholder,\\n The City of Calgary. For many years, the reduction\\n of greenhouse gas (GHG) emissions has been a key\\n component of our environmental protection and\\n stewardship practices.\\n OUR APPROACH\\n ENMAX has committed to achieving net-zero scope 1\\n and scope 2 GHG emissions by 2050. As a milestone\\n towards achieving our net-zero vision, we plan to reduce\\n or offset 70 per cent of our scope 1 and scope 2 GHG\\n emissions by 2030 from a 2015 baseline. To reach these\\n targets, we are identifying efficiencies at our natural gas\\n power generation facilities, offsetting and managing\\n emissions from our corporate and operational buildings,\\n and advancing the electrification of our mobile fleet.\\n Evolving our generation portfolio\\n We have already achieved significant emissions\\n reductions over the past decade due to the transition of\\n our power generation portfolio. When compared to our\\n 2015 baseline, we have reduced the GHG emissions by\\n 66 per cent. Today, we hold no coal‐fired generation in\\n our portfolio, and our power generation facilities are\\n a combination of modern natural gas-fuelled power\\n generation facilities and wind facilities.\\n GHG emissions across our business\\n Today, the vast majority of our GHG emissions\\n come from our natural gas power generation facilities.\\n Our primary source of GHG emissions is natural gas\\n combustion at these plants, followed by a smaller\\n proportion originating from natural gas and electricity\\n consumption at our corporate and operational buildings,\\n together with fuel combustion within our mobile fleet\\n (see table at right).\\n 2021 HIGHLIGHTS\\n → Completed a turbine upgrade and maintenance event at Shepard\\n Energy Centre that added 11 new megawatts (MW) of generation.'},\n",
       " {'text': 'significantly impacted, we dedicated time and focus\\n to prepare for these types of events. During the year,\\n ENMAX Power held three weather-related tabletop\\n exercises, two related to flood and one simulating\\n a large snowstorm. Tabletop emergency exercises\\n are sessions in which team members discuss their\\n roles during an emergency and their responses\\n to a particular situation, with a facilitator guiding\\n participants through the scenario. Our exercises\\n involved representatives from field services, senior\\n leadership, communications and system operations.\\n Some of the learnings from these exercises included\\n improvements to our ICS organizational structure to\\n enable more effective two-way communication and\\n providing better support to our system operators\\n and trouble dispatchers to assign jobs to crews for\\n secondary outages that can occur during storms.\\n Emergency\\n preparedness and\\n crisis management\\n ENMAX 2021\\n ENVIRONMENTAL, SOCIAL\\n & GOVERNANCE REPORT CEO LET TER ESG SCORECARD ABOUT ENMAX SOCIAL GOVERNANCE TCFD APPENDICES\\n 26\\n ENVIRONMENT\\n WHY IT MATTERS TO ENMAX\\n We recognize water is a precious resource that must\\n be used responsibly. We carefully manage our water\\n withdrawals and monitor our wastewater disposal.\\n OUR APPROACH\\n The majority of our water use is for essential power\\n generation processes—intake water is used for cooling\\n purposes in cooling towers and the remainder is\\n purified onsite to create steam in our combinedcycle\\n power plants. Combined-cycle facilities extract\\n waste heat from the gas turbine exhaust and use it to\\n create high pressure steam which produces additional\\n electricity when allowed to depressurize. Our water\\n reduction initiatives have been focused on reducing\\n facility water intensity by:\\n Reducing potable water use\\n We strive to minimize potable water use by using as\\n much reclaimed water in our operations as practically\\n possible. Reclaimed water is wastewater that has been'},\n",
       " {'text': 'EMISSIONS (TONNES) 2017 2017 2019 2020 2021\\n SOx 13 16 16 17 13\\n Particulate matter (PM₁₀) 25 14 15 15 12\\n Note: Air emissions data includes only our power generation assets over which we\\n have operational control.\\n OUR PERFORMANCE\\n NOx emissions from natural gas-fuelled power generation\\n 2017 2018 2019 2020 2021\\n Aggregated approved NOx emissions\\n NOx Intensity\\n 0\\n 8,000\\n 1,203\\n 1,657 1,612\\n 1,926 2,102\\n 0.26\\n 0.23\\n 0.25\\n 0.27\\n 0.24\\n 0.0\\n 0.3\\n ENMAX 2021\\n ENVIRONMENTAL, SOCIAL\\n & GOVERNANCE REPORT CEO LET TER ESG SCORECARD ABOUT ENMAX SOCIAL GOVERNANCE TCFD APPENDICES\\n 28\\n ENVIRONMENT\\n WHY IT MATTERS TO ENMAX\\n Environmental protection and stewardship are integral\\n components of our strategy embedded across all\\n aspects of our business. We endeavour to provide\\n environmentally responsible energy solutions to the\\n communities we serve.\\n OUR APPROACH\\n At ENMAX, we conduct our business with respect\\n for living species and the land around our operations.\\n We have an established environmental management\\n system, clear data collection and reporting processes,\\n and strong internal procedures to manage our\\n environmental risks. Our environmental management\\n system is modeled after ISO 14001:2015, an international\\n standard for environmental management.\\n Land stewardship\\n ENMAX Power operates over 38,000 distribution pad\\n mounted transformers, 113 high voltage substation\\n power transformers and 43 substations. While we\\n continually work to prevent spills in our daily operations,\\n we do experience some releases. In 2021, we had\\n three significant¹ transformer spills. Two distribution\\n transformer spills, one caused by third-party damage\\n and one as a result of a faulty drain valve. The third\\n spill involved a substation transformer release due to\\n a radiator fin failure. Some of the ways we are working\\n to reduce spills and improve our land stewardship\\n practices include:\\n PROACTIVE SPILL PREVENTION AND RESPONSE\\n We have established routine inspection programs'}]"
      ]
     },
     "execution_count": 18,
     "metadata": {},
     "output_type": "execute_result"
    }
   ],
   "source": [
    "payloads"
   ]
  },
  {
   "cell_type": "code",
   "execution_count": null,
   "metadata": {},
   "outputs": [],
   "source": []
  }
 ],
 "metadata": {
  "kernelspec": {
   "display_name": "Python 3",
   "language": "python",
   "name": "python3"
  },
  "language_info": {
   "codemirror_mode": {
    "name": "ipython",
    "version": 3
   },
   "file_extension": ".py",
   "mimetype": "text/x-python",
   "name": "python",
   "nbconvert_exporter": "python",
   "pygments_lexer": "ipython3",
   "version": "3.8.15"
  },
  "orig_nbformat": 4
 },
 "nbformat": 4,
 "nbformat_minor": 2
}
